{
 "cells": [
  {
   "cell_type": "code",
   "execution_count": 549,
   "metadata": {},
   "outputs": [],
   "source": [
    "import sys\n",
    "sys.path.insert(0, '..')\n",
    "\n",
    "import pandas as pd\n",
    "import numpy as np\n",
    "\n",
    "import pandas as pd\n",
    "import nltk\n",
    "import re\n",
    "\n",
    "from helpers import *"
   ]
  },
  {
   "cell_type": "code",
   "execution_count": 550,
   "metadata": {},
   "outputs": [],
   "source": [
    "df = pd.read_excel(path_data + \"IOW - 2 - Renamed Others.xlsx\")"
   ]
  },
  {
   "cell_type": "code",
   "execution_count": 551,
   "metadata": {},
   "outputs": [],
   "source": [
    "text_columns = [\n",
    "    \"WORD_association\",\n",
    "    \"PERSON_association\",\n",
    "    \"BRAND_association\",   \n",
    "    \"SELF_association\"\n",
    "]"
   ]
  },
  {
   "cell_type": "markdown",
   "metadata": {},
   "source": [
    "## 1 Operation: Lower and Strip"
   ]
  },
  {
   "cell_type": "code",
   "execution_count": 552,
   "metadata": {},
   "outputs": [],
   "source": [
    "# lower and strip \n",
    "\n",
    "df[text_columns] = df[text_columns].apply(lambda x: x.str.lower().str.strip())"
   ]
  },
  {
   "cell_type": "markdown",
   "metadata": {},
   "source": [
    "### 1.1 Remove: Entries with Contractions\n",
    "\n",
    "These are likely to be sentences, hence not of interest to us"
   ]
  },
  {
   "cell_type": "code",
   "execution_count": 553,
   "metadata": {},
   "outputs": [
    {
     "name": "stdout",
     "output_type": "stream",
     "text": [
      "WORD_association\n",
      "Series([], Name: WORD_association, dtype: int64)\n",
      " \n",
      "PERSON_association\n",
      "reliable, dependable, won't let me down                                                                                                                                                                                                                        1\n",
      "i'm  sorry, this is making my brain blank, possibly because it's not how the study was described and i can't switch my thinking. i can do impersonal word associations but making it personal seems to have exposed some sort of flaw in how my mind works.    1\n",
      "i don't trust anyone                                                                                                                                                                                                                                           1\n",
      "Name: PERSON_association, dtype: int64\n",
      " \n",
      "BRAND_association\n",
      "i don't trust brands                                                                                                                                                                                                                                                                              2\n",
      "i don't particularly trust any brand and positively distrust most of them. but, let's take rnli: bravery, volunteer, safety, sea, lifesavers, loyalty, generous, capable                                                                                                                          1\n",
      "i don't trust any brands, they all exist to make money above all else                                                                                                                                                                                                                             1\n",
      "i can't think of a brand that i trust.                                                                                                                                                                                                                                                            1\n",
      "i don't trust any brand 100%                                                                                                                                                                                                                                                                      1\n",
      "i don't trust anyone                                                                                                                                                                                                                                                                              1\n",
      "i'm sorry, i've wracked my brains for 2 or 3 minutes and can't think of a brand i trust!                                                                                                                                                                                                          1\n",
      "i genuinely don't trust any brands, they eventually let you down. i don't use a brand because i actively trust it, but i won't use a brand if i actively distrust it. i have no loyalty to a brand, i research what i want from scratch.                                                          1\n",
      "i can't think of one. sorry.                                                                                                                                                                                                                                                                      1\n",
      "i don't trust or follow or associate with so-called brands. i look at a product for price, utility, value and aesthetics and decide whether i want it. i don't care about its brand. but a brand i can make some negative associations with is nike.   associations:  tacky. overpriced. ugly.    1\n",
      "don't trust any brand                                                                                                                                                                                                                                                                             1\n",
      "i don't feel as if i fully trust any specific brands, i don't know enough about the majority of them. some i trust slightly more than others though- environmentally friendly, personable, charitable                                                                                             1\n",
      "can't really think of a brand i trust                                                                                                                                                                                                                                                             1\n",
      "can't think of any.                                                                                                                                                                                                                                                                               1\n",
      "cannot think of a brand i trust because i don't believe any brand embodies integrity to the extent that i would trust it (as it is for profit)                                                                                                                                                    1\n",
      "i don't trust any particular brand but if i did it would be reliable, honest, regular                                                                                                                                                                                                             1\n",
      "i don't really trust any brands, at the end of the day they're here to extract profit from you, so trusting them innately and not questioning the value you're getting from them seems to be pretty stupid.                                                                                       1\n",
      "Name: BRAND_association, dtype: int64\n",
      " \n",
      "SELF_association\n",
      "genuine, honest and don't mess people around!                                                                                                               1\n",
      "i don't want think anything bad about me                                                                                                                    1\n",
      "they shouldn't trust me.                                                                                                                                    1\n",
      "honest and have never done some one in, in a major way. i follow through with what i say i'm going to do.                                                   1\n",
      "you can either trust or not trust me i'm who i am i will always help when i can                                                                             1\n",
      "always true to my word. don't get pressurised by others                                                                                                     1\n",
      "consistent, reliable, don't let people down, always try my best, honest, truthful.                                                                          1\n",
      "direct and straight to the point. i won't try and weasel out of things so what i say would be true. at the same time, i would always try to help people.    1\n",
      "people generally trust me because i always give assurances i'm a trustworthy person, this is done by being an attentive listener and through my actions,    1\n",
      "i don't believe in blind faith. people should only trust me if they know that i am reliable and stick to my word.                                           1\n",
      "as i'm honest and caring                                                                                                                                    1\n",
      "truthful, diligent, don't lie, trustworthy, integrity                                                                                                       1\n",
      "what you see isn't what you get, but once i trust you, i'm open as a book...i will never let you down, i will always be there for you                       1\n",
      "people should trust me because i'm caring, trustworthy, considerate, comforting                                                                             1\n",
      "i am honest,  reliable, don't judge, keep confidences, on time and do a good job, do what i say i will.                                                     1\n",
      "people should trust me because i am truthful, i don't want to hurt or gain from anybody without them gaining themselves.                                    1\n",
      "Name: SELF_association, dtype: int64\n",
      " \n"
     ]
    }
   ],
   "source": [
    "def remove_contractions(series):\n",
    "    \n",
    "    expr = \"'t |'m |'re |'ve \"\n",
    "\n",
    "    invalid = series.str.contains(expr).fillna(False)\n",
    "\n",
    "    print(series.name)\n",
    "    print(series.loc[invalid].value_counts())\n",
    "    print(\" \")\n",
    "\n",
    "    series.loc[invalid] = np.nan\n",
    "\n",
    "    return series\n",
    "\n",
    "df[text_columns] = df[text_columns].apply(remove_contractions)"
   ]
  },
  {
   "cell_type": "markdown",
   "metadata": {},
   "source": [
    "### 1.2 Remove: Entries with first person singular\n",
    "\n",
    "Also typical in sentences"
   ]
  },
  {
   "cell_type": "code",
   "execution_count": 554,
   "metadata": {},
   "outputs": [
    {
     "name": "stdout",
     "output_type": "stream",
     "text": [
      "WORD_association\n",
      "Series([], Name: WORD_association, dtype: int64)\n",
      " \n",
      "PERSON_association\n",
      "i trust mom                                                                                                                                                                                                                                                                                                                       1\n",
      "i trust my wife. i trust her to raise our house                                                                                                                                                                                                                                                                                   1\n",
      "i dont trust anyone                                                                                                                                                                                                                                                                                                               1\n",
      "i trust a good friend of mine as we have been friends for nearly 40 years and she is on the same wavelength as me. we laugh at the same things therefore we know what to say. we have the same sense of (daft) humour when together and each knows where the other is coming from with no explanations.                           1\n",
      "my youngest daughter. i can tell her anything and everything and she will never repeat it.                                                                                                                                                                                                                                        1\n",
      "love, marriage, fun, house, garden, frome, music, saxophone, flute, tenor, soprano, dickies, careismatic, allen, toys, nicholas, uggley dolls, knitting, archeology, tv, films, dinosaurs, bigfoot, cryptids, mothman, keyboard, loch ness monster, joss gates, duran duran - i could go on maybe for hours so i'll stop here!    1\n",
      "actually i don’t trust anyone                                                                                                                                                                                                                                                                                                     1\n",
      "my daughter is a true friend, and very trustworthy. i can trust her with my life.                                                                                                                                                                                                                                                 1\n",
      "here are some associations with the person i trust:  love and affection life partner emotional support companionship loyalty shared experiences understanding intimacy trustworthiness communication friendship                                                                                                                   1\n",
      "Name: PERSON_association, dtype: int64\n",
      " \n",
      "BRAND_association\n",
      "i don’t trust any brand                                                                                                                                                               2\n",
      "n/a. i wouldn’t say i particularly trust any brands.                                                                                                                                  1\n",
      "i really dont trust any brands                                                                                                                                                        1\n",
      "i am not sure, apple? amazon?                                                                                                                                                         1\n",
      "i don’t trust any brand as ultimately they are just trying to see their product                                                                                                       1\n",
      "i trust morisson.  apple is a trustable company.  the nhs trust                                                                                                                       1\n",
      "i trust ee - because i have been a customer of theirs for over 22 years. they always deliver what they say they will do and their prices are excellent.                               1\n",
      "skechers, comfortable footwear, i trust them to get the product right.                                                                                                                1\n",
      "i do not trust any brands                                                                                                                                                             1\n",
      "i phone   lg   panasonic                                                                                                                                                              1\n",
      "i trust hobbs clothing - good range, perfect cut, great finish, all sizes, great sales, coats, skirts, dresses, counter staff, helpers, shoes, trials, returns,                       1\n",
      "apple    i trust it with all my information and photos and this is a huge thing for me                                                                                                1\n",
      "i do not trust any particular brand                                                                                                                                                   1\n",
      "i dont trust any brand                                                                                                                                                                1\n",
      "i do not trust brands or corporations.                                                                                                                                                1\n",
      "i trust matalan, they sell good quality clothes, are reasonably price, have lots of stores, always have a discount section, the clothes are on trend, the clothes are hardwearing.    1\n",
      "Name: BRAND_association, dtype: int64\n",
      " \n",
      "SELF_association\n",
      "i am an honest person                                                                                                                                                                                                                                                                                                                                                                                                                                                                                                                                                                                                                1\n",
      "reliable honest and professional in relation to my job, i am always willing to go the 'extra mile' to support my colleagues and 'customers'                                                                                                                                                                                                                                                                                                                                                                                                                                                                                          1\n",
      "honest and i am always looking out to people i care for                                                                                                                                                                                                                                                                                                                                                                                                                                                                                                                                                                              1\n",
      "honest and loyal and i treat others how i wish to be treated.                                                                                                                                                                                                                                                                                                                                                                                                                                                                                                                                                                        1\n",
      "people should trust me because i am loyal, i am trustworthy, what you see is what you get, kind happy and always up for a laugh. if you trust me, i will stay fiercely loyal                                                                                                                                                                                                                                                                                                                                                                                                                                                         1\n",
      "people should trust me because i am honest, reliable, knowledgeable, empathetic, accountable, respectful, ethical, dependable, communicative, compassionate, and committed to integrity.                                                                                                                                                                                                                                                                                                                                                                                                                                             1\n",
      "people should trust me because i am genuine, trustworthy, nice, straight-up, honest, loyal                                                                                                                                                                                                                                                                                                                                                                                                                                                                                                                                           1\n",
      "please should trust me because i am honest, i am reliable. i’m don’t have bad intentions, i’m more focused on my own issues rather than gossiping  about other peoples.                                                                                                                                                                                                                                                                                                                                                                                                                                                              1\n",
      "i am loyal and trustworthy. i value relationships highly.                                                                                                                                                                                                                                                                                                                                                                                                                                                                                                                                                                            1\n",
      "reliable person who delivers what i say i will                                                                                                                                                                                                                                                                                                                                                                                                                                                                                                                                                                                       1\n",
      "people should trust me because i am, honest, caring, helpful, i put others first                                                                                                                                                                                                                                                                                                                                                                                                                                                                                                                                                     1\n",
      "people should trust me because i am:    honest: i consistently tell the truth and are transparent in my dealings with everyone.    reliable: i  can be counted on to follow through on my commitments and promises to friends and family.     trustworthy: my  actions align with your words, and i keep confidences.    consistent: my behaviour and principles have remained stable over time.    empathetic: i  understand and care about the feelings and perspectives of others.    respectful: i treat others with courtesy and consideration.    responsible: i take ownership of your actions and responsibilities.          1\n",
      "i am an honest person with good morals and respects others                                                                                                                                                                                                                                                                                                                                                                                                                                                                                                                                                                           1\n",
      "i am honest and care for others                                                                                                                                                                                                                                                                                                                                                                                                                                                                                                                                                                                                      1\n",
      "i get sick just by imagining to betraying someone                                                                                                                                                                                                                                                                                                                                                                                                                                                                                                                                                                                    1\n",
      "people trust me because i am reliable and helpful and good at keeping secrets                                                                                                                                                                                                                                                                                                                                                                                                                                                                                                                                                        1\n",
      "i am a complete honest person - too honest people may say. i value relationships and what is communicated between them.   trust with their children                                                                                                                                                                                                                                                                                                                                                                                                                                                                                  1\n",
      "trustworthy. i am a good person who sticks to his word and i am also honest.                                                                                                                                                                                                                                                                                                                                                                                                                                                                                                                                                         1\n",
      "reliable to others, i try to keep me as a trusted freind to others.                                                                                                                                                                                                                                                                                                                                                                                                                                                                                                                                                                  1\n",
      "someone who thinks deeply about what i can do to be a better person.                                                                                                                                                                                                                                                                                                                                                                                                                                                                                                                                                                 1\n",
      "i put in the effort and i have been there to know what it feels like when someone doesn’t keep their word                                                                                                                                                                                                                                                                                                                                                                                                                                                                                                                            1\n",
      "people should trust me because i am hard working, reliable, loyal, kind, compassionate, understanding, empathetic                                                                                                                                                                                                                                                                                                                                                                                                                                                                                                                    1\n",
      "people should trust me because i am… loyal, kind.                                                                                                                                                                                                                                                                                                                                                                                                                                                                                                                                                                                    1\n",
      "i am loyal and a happy bloke with similar intrests and very flexible                                                                                                                                                                                                                                                                                                                                                                                                                                                                                                                                                                 1\n",
      "people should trust me because i am kind, caring and respectful.                                                                                                                                                                                                                                                                                                                                                                                                                                                                                                                                                                     1\n",
      "people should trust me because i am honest and reliable                                                                                                                                                                                                                                                                                                                                                                                                                                                                                                                                                                              1\n",
      "am honest and treat people how i want to be treated                                                                                                                                                                                                                                                                                                                                                                                                                                                                                                                                                                                  1\n",
      "im a great person, i understand others emotions                                                                                                                                                                                                                                                                                                                                                                                                                                                                                                                                                                                      1\n",
      "i am honest and i am good with keeping secrets of others                                                                                                                                                                                                                                                                                                                                                                                                                                                                                                                                                                             1\n",
      "people trust me because i am reliable, compassionate, friendly and supportive.                                                                                                                                                                                                                                                                                                                                                                                                                                                                                                                                                       1\n",
      "i keep to my word                                                                                                                                                                                                                                                                                                                                                                                                                                                                                                                                                                                                                    1\n",
      "people should trust me because i am caring, loving, honest                                                                                                                                                                                                                                                                                                                                                                                                                                                                                                                                                                           1\n",
      "i am reliable and good fun allways on time                                                                                                                                                                                                                                                                                                                                                                                                                                                                                                                                                                                           1\n",
      "i am loyal                                                                                                                                                                                                                                                                                                                                                                                                                                                                                                                                                                                                                           1\n",
      "not the person you think i am                                                                                                                                                                                                                                                                                                                                                                                                                                                                                                                                                                                                        1\n",
      "an honest person and i have no interested in being dishonest and untrustworthy.                                                                                                                                                                                                                                                                                                                                                                                                                                                                                                                                                      1\n",
      "i will do as i say. i stick to what we agreed upon. i fulfill my end of the bargain                                                                                                                                                                                                                                                                                                                                                                                                                                                                                                                                                  1\n",
      "people should trust me because i am always open and honest, dependable, reliable                                                                                                                                                                                                                                                                                                                                                                                                                                                                                                                                                     1\n",
      "i tell the trust and extremely loyal and honest                                                                                                                                                                                                                                                                                                                                                                                                                                                                                                                                                                                      1\n",
      "people should trust me because i am reliable and consistent. i always follow through on my commitments and deliver on my promises. i am also honest and transparent in my actions and communication. i prioritize building strong relationships based on trust and respect. additionally, i am dedicated and diligent in my work, always striving for excellence. i take responsibility for my mistakes and actively work towards finding solutions. overall, i believe that trust is the foundation of any successful relationship, and i consistently demonstrate the qualities and behaviors that earn and maintain that trust    1\n",
      "people should trust me because i can keep secrets. i don’t tell others a person’s personal business.. i keep these things to myself.                                                                                                                                                                                                                                                                                                                                                                                                                                                                                                 1\n",
      "honest, truthful and i go out of my way to help others.                                                                                                                                                                                                                                                                                                                                                                                                                                                                                                                                                                              1\n",
      "people should trust me because i am reliable, good at keeping secrets, listener                                                                                                                                                                                                                                                                                                                                                                                                                                                                                                                                                      1\n",
      "true to my word, honest, reliable, dependable, solid, grounded, faithful and do what i say i would                                                                                                                                                                                                                                                                                                                                                                                                                                                                                                                                   1\n",
      "loyal and caring and will listen and help people if i can.                                                                                                                                                                                                                                                                                                                                                                                                                                                                                                                                                                           1\n",
      "i am always discreet and if told something in confidence will never repeat it,                                                                                                                                                                                                                                                                                                                                                                                                                                                                                                                                                       1\n",
      "honest and tell it how it is. i also will have your back                                                                                                                                                                                                                                                                                                                                                                                                                                                                                                                                                                             1\n",
      "i manage my emotions and desires reliably                                                                                                                                                                                                                                                                                                                                                                                                                                                                                                                                                                                            1\n",
      "people should trust me because i treasure every deep connection that i come across deeply, i would never intend to sabotage it.                                                                                                                                                                                                                                                                                                                                                                                                                                                                                                      1\n",
      "because i am ,honest, helpful, here for people, kind.                                                                                                                                                                                                                                                                                                                                                                                                                                                                                                                                                                                1\n",
      "i am genuine, i have good intentions, i help when i can, i listen                                                                                                                                                                                                                                                                                                                                                                                                                                                                                                                                                                    1\n",
      "people should trust me because i will always give my time to those who want it, anything spoken about, will not leave our conversation. i will always be around when promised and keep my word. i like to think that i am dependable and trustworthy, i try my best never to let anyone down.                                                                                                                                                                                                                                                                                                                                        1\n",
      "i am loyal, reliable ,trustworthy ,likeable ,loveable ,                                                                                                                                                                                                                                                                                                                                                                                                                                                                                                                                                                              1\n",
      "people should trust me because i am reliable, honest, knowledgeable, empathetic, respectful, and dependable.                                                                                                                                                                                                                                                                                                                                                                                                                                                                                                                         1\n",
      "\"people should trust me because i am dedicated, uphold my oath, pledge my commitment, foster partnership, demonstrate empathy, show solidarity, and display unwavering devotion.\"                                                                                                                                                                                                                                                                                                                                                                                                                                                    1\n",
      "people should trust me because i am...   reliable, committed, confident, hopeful, trustworthy                                                                                                                                                                                                                                                                                                                                                                                                                                                                                                                                        1\n",
      "nobody should trust me - i am a massive let down                                                                                                                                                                                                                                                                                                                                                                                                                                                                                                                                                                                     1\n",
      "reliable, solid, mean what i say, truthful, honest, thoughtful                                                                                                                                                                                                                                                                                                                                                                                                                                                                                                                                                                       1\n",
      "people should trust me because i am a man of my word if i say something it is always fact im extremely reliable                                                                                                                                                                                                                                                                                                                                                                                                                                                                                                                      1\n",
      "Name: SELF_association, dtype: int64\n",
      " \n"
     ]
    }
   ],
   "source": [
    "def remove_first_person(series):\n",
    "\n",
    "    invalid = (\" \" + series).str.contains(\" i \").fillna(False)\n",
    "\n",
    "    print(series.name)\n",
    "    print(series[invalid].value_counts())\n",
    "    print(\" \")\n",
    "\n",
    "    series.loc[invalid] = np.nan\n",
    "\n",
    "    return series\n",
    "\n",
    "df[text_columns] = df[text_columns].apply(remove_first_person)"
   ]
  },
  {
   "cell_type": "markdown",
   "metadata": {},
   "source": [
    "## 2 Operation: Replace alternative seperators with comma"
   ]
  },
  {
   "cell_type": "code",
   "execution_count": 555,
   "metadata": {},
   "outputs": [],
   "source": [
    "def replace_alternate_with_comma(series):\n",
    "\n",
    "    no_comma = ~series.str.contains(\",\").fillna(False)\n",
    "    series.loc[no_comma] = series.loc[no_comma].str.replace(\" \", \",\").str.replace(\";\", \",\")\n",
    "\n",
    "    return series\n",
    "\n",
    "df[text_columns] = df[text_columns].apply(replace_alternate_with_comma)"
   ]
  },
  {
   "cell_type": "markdown",
   "metadata": {},
   "source": [
    "## 3 Operation: Replace special characters"
   ]
  },
  {
   "cell_type": "code",
   "execution_count": 565,
   "metadata": {},
   "outputs": [],
   "source": [
    "def clean_text(text):\n",
    "    text = re.sub(r'\\s+', ' ', text) # Replace multiple spaces with one\n",
    "    text = re.sub(r',+', ',', text) # replace multiple commas with one\n",
    "    text = re.sub(r'[^a-zA-Z0-9&,:\\-]', '', text) # remove special characters, allowing only & and , and : and -\n",
    "\n",
    "    text = text.replace(\",\", \" \").strip().replace(\" \", \",\") # Remove commas at the start and end of text\n",
    "\n",
    "    return text\n",
    "\n",
    "def clean_word(word):\n",
    "    word = word.strip() # remove spaces at the start and end of word\n",
    "\n",
    "    word = \" \".join([part.strip() for part in word.split(\"-\")]) # remove spaces between hyphenated words\n",
    "    word = \" \".join([part.strip() for part in word.split(\":\")]) # remove spaces between colonated words\n",
    "\n",
    "    word = word.replace(\" \", \"-\") # replace spaces with hyphens (for ngrams)\n",
    "\n",
    "    return word\n",
    "\n",
    "def clean(series):\n",
    "    series = series.apply(clean_text)\n",
    "    series = series.str.split(\",\").apply(lambda array: \",\".join([clean_word(x) for x in array]))\n",
    "    \n",
    "    return series\n",
    "\n",
    "df[text_columns] = df[text_columns].fillna(\"\").apply(clean)"
   ]
  },
  {
   "cell_type": "markdown",
   "metadata": {},
   "source": [
    "## 4 Operation: Find and fix typos"
   ]
  },
  {
   "cell_type": "code",
   "execution_count": 566,
   "metadata": {},
   "outputs": [],
   "source": [
    "#pip install pyspellchecker"
   ]
  },
  {
   "cell_type": "code",
   "execution_count": 567,
   "metadata": {},
   "outputs": [],
   "source": [
    "from spellchecker import SpellChecker\n",
    "\n",
    "df_allwords = df[text_columns].fillna(\"\")\\\n",
    "                .apply(lambda x: \",\".join(x), axis=1)\\\n",
    "                    .str.split(\",\").explode()\n",
    "\n",
    "spell = SpellChecker()\n",
    "\n",
    "unknown_words = spell.unknown(df_allwords.value_counts().index)\n",
    "\n",
    "# ngrams are marked as unknown, however the majority of errors are within unigrams, hence we will focus only on these for simplicity\n",
    "\n",
    "unknown_unigrams = [word for word in unknown_words if len(word.split(\"-\")) == 1] "
   ]
  },
  {
   "cell_type": "code",
   "execution_count": 568,
   "metadata": {},
   "outputs": [
    {
     "data": {
      "text/plain": [
       "                             134\n",
       "honestkind                     1\n",
       "amazonreliable                 1\n",
       "bootsestablished               1\n",
       "safemedicinal                  1\n",
       "                            ... \n",
       "nationwidebuildingsociety      1\n",
       "johnlewistrustworthy           1\n",
       "judgementfree                  1\n",
       "bluntandnormal                 1\n",
       "ontime                         4\n",
       "Length: 903, dtype: int64"
      ]
     },
     "execution_count": 568,
     "metadata": {},
     "output_type": "execute_result"
    }
   ],
   "source": [
    "# Are there any preferred ones to fix?\n",
    "\n",
    "df_allwords.value_counts()[unknown_unigrams]"
   ]
  },
  {
   "cell_type": "code",
   "execution_count": 569,
   "metadata": {},
   "outputs": [],
   "source": [
    "# Note:\n",
    "# \n",
    "# df_allwords.unique() list was fed to gpt-4 to get the correct spelling and copied into typos.json"
   ]
  },
  {
   "cell_type": "code",
   "execution_count": 570,
   "metadata": {},
   "outputs": [],
   "source": [
    "typo_dict = read_json(path_json + \"typos.json\")"
   ]
  },
  {
   "cell_type": "code",
   "execution_count": 571,
   "metadata": {},
   "outputs": [],
   "source": [
    "def correct_typo(series):\n",
    "\n",
    "    def correct_typo_word(word):\n",
    "        if word in typo_dict:\n",
    "            return typo_dict[word]\n",
    "        else:\n",
    "            return word\n",
    "\n",
    "    series = series.fillna(\"\").apply(lambda x: apply_wordlist(x, correct_typo_word)).replace(\"\", np.nan)\n",
    "    \n",
    "    return series\n",
    "\n",
    "df[text_columns] = df[text_columns].apply(correct_typo)"
   ]
  },
  {
   "cell_type": "code",
   "execution_count": null,
   "metadata": {},
   "outputs": [],
   "source": [
    "## 5 Operation: Convert nouns to adjectives when possible (to avoid duplication)"
   ]
  },
  {
   "cell_type": "code",
   "execution_count": 572,
   "metadata": {},
   "outputs": [],
   "source": [
    "# Convert some nouns to adjectives\n",
    "\n",
    "# TODO"
   ]
  },
  {
   "cell_type": "code",
   "execution_count": 520,
   "metadata": {},
   "outputs": [],
   "source": [
    "df.to_excel(path_data + \"IOW - 3 - Cleaned Text.xlsx\", index=False)"
   ]
  },
  {
   "cell_type": "code",
   "execution_count": null,
   "metadata": {},
   "outputs": [],
   "source": []
  },
  {
   "cell_type": "code",
   "execution_count": null,
   "metadata": {},
   "outputs": [],
   "source": []
  },
  {
   "cell_type": "code",
   "execution_count": null,
   "metadata": {},
   "outputs": [],
   "source": []
  }
 ],
 "metadata": {
  "kernelspec": {
   "display_name": "Python 3",
   "language": "python",
   "name": "python3"
  },
  "language_info": {
   "codemirror_mode": {
    "name": "ipython",
    "version": 3
   },
   "file_extension": ".py",
   "mimetype": "text/x-python",
   "name": "python",
   "nbconvert_exporter": "python",
   "pygments_lexer": "ipython3",
   "version": "3.10.11"
  }
 },
 "nbformat": 4,
 "nbformat_minor": 2
}
