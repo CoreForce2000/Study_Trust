{
 "cells": [
  {
   "cell_type": "code",
   "execution_count": 2,
   "metadata": {},
   "outputs": [],
   "source": [
    "import sys\n",
    "sys.path.insert(0, '..')\n",
    "\n",
    "import pandas as pd\n",
    "from helpers import *"
   ]
  },
  {
   "cell_type": "code",
   "execution_count": 3,
   "metadata": {},
   "outputs": [],
   "source": [
    "df = pd.read_excel(\"../data/IOW - 1 - Renamed Columns.xlsx\")\n",
    "\n",
    "other_cols = [\"WORD_person\", \"PERSON_relationship\"]\n",
    "\n",
    "# Read the json files in the json folder as dictionaries\n",
    "\n",
    "rename = {\n",
    "    c:invert_one_to_many_dict( read_json(path_json + f\"rename_{c}_other.json\") ) for c in other_cols\n",
    "}"
   ]
  },
  {
   "cell_type": "markdown",
   "metadata": {},
   "source": [
    "## 1 Apply the hand-coded \"Other\" column classification to the main column"
   ]
  },
  {
   "cell_type": "code",
   "execution_count": 5,
   "metadata": {},
   "outputs": [],
   "source": [
    "def rename_other(df, column_name):\n",
    "    \n",
    "    other_column_name = f\"{column_name}_other\"\n",
    "\n",
    "    df.loc[~df[other_column_name].isna(), column_name] = df[other_column_name].dropna().str.lower().str.strip().replace(rename[column_name])\n",
    "    return df"
   ]
  },
  {
   "cell_type": "code",
   "execution_count": 6,
   "metadata": {},
   "outputs": [
    {
     "name": "stdout",
     "output_type": "stream",
     "text": [
      "Distribution of Categories after grouping 'Others'\n"
     ]
    },
    {
     "data": {
      "text/plain": [
       "No one in particular.      724\n",
       "Family                     411\n",
       "Friend(s)                  299\n",
       "Other: Partner              26\n",
       "Co-worker(s)                15\n",
       "Other: Organization         12\n",
       "Other: Public Person        11\n",
       "Other: Me                    4\n",
       "Other: Pet                   2\n",
       "Other: Professional          2\n",
       "Other: Religious Figure      1\n",
       "Name: WORD_person, dtype: int64"
      ]
     },
     "execution_count": 6,
     "metadata": {},
     "output_type": "execute_result"
    }
   ],
   "source": [
    "result = rename_other(df,\"WORD_person\")\n",
    "\n",
    "print(\"Distribution of Categories after grouping 'Others'\")\n",
    "result[\"WORD_person\"].value_counts()"
   ]
  },
  {
   "cell_type": "code",
   "execution_count": 7,
   "metadata": {},
   "outputs": [
    {
     "name": "stdout",
     "output_type": "stream",
     "text": [
      "Distribution of Categories after grouping 'Others'\n"
     ]
    },
    {
     "data": {
      "text/plain": [
       "Friend                                                      387\n",
       "Wife or girlfriend                                          360\n",
       "Husband or boyfriend                                        337\n",
       "Other family member                                         281\n",
       "Sister                                                       49\n",
       "Brother                                                      40\n",
       "Co-worker                                                    21\n",
       "Other: Public Person                                         11\n",
       "Other or Prefer to self-describe (free text description)      4\n",
       "Other: Professional                                           4\n",
       "Other: No-one                                                 4\n",
       "Other: Me                                                     3\n",
       "Other: Superior                                               2\n",
       "Other: Organization                                           2\n",
       "Co-worker(s)                                                  1\n",
       "Other: Partner                                                1\n",
       "Name: PERSON_relationship, dtype: int64"
      ]
     },
     "execution_count": 7,
     "metadata": {},
     "output_type": "execute_result"
    }
   ],
   "source": [
    "result = rename_other(df, \"PERSON_relationship\")\n",
    "\n",
    "print(\"Distribution of Categories after grouping 'Others'\")\n",
    "result[\"PERSON_relationship\"].value_counts()"
   ]
  },
  {
   "cell_type": "markdown",
   "metadata": {},
   "source": [
    "## 2 Drop \"Other\" columns"
   ]
  },
  {
   "cell_type": "code",
   "execution_count": 10,
   "metadata": {},
   "outputs": [],
   "source": [
    "result = result.drop(columns=[\"WORD_person_other\", \"PERSON_relationship_other\", \"PERSON_gender_other\"])"
   ]
  },
  {
   "cell_type": "markdown",
   "metadata": {},
   "source": [
    "## Export"
   ]
  },
  {
   "cell_type": "code",
   "execution_count": 11,
   "metadata": {},
   "outputs": [],
   "source": [
    "result.to_excel(path_data + \"IOW - 2 - Renamed Others.xlsx\", index=False)"
   ]
  },
  {
   "cell_type": "code",
   "execution_count": null,
   "metadata": {},
   "outputs": [],
   "source": []
  }
 ],
 "metadata": {
  "kernelspec": {
   "display_name": "Python 3",
   "language": "python",
   "name": "python3"
  },
  "language_info": {
   "codemirror_mode": {
    "name": "ipython",
    "version": 3
   },
   "file_extension": ".py",
   "mimetype": "text/x-python",
   "name": "python",
   "nbconvert_exporter": "python",
   "pygments_lexer": "ipython3",
   "version": "3.10.11"
  }
 },
 "nbformat": 4,
 "nbformat_minor": 2
}
